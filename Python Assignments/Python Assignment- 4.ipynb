{
 "cells": [
  {
   "cell_type": "markdown",
   "metadata": {},
   "source": [
    "**1.1** `Write a Python Program(with class concepts) to find the area of the triangle using the below formula.` <br>\n",
    "`area = (s*(s-a)*(s-b)*(s-c)) ** 0.5` <br>\n",
    "`Function to take the length of the sides of triangle from user should be defined in the parent class and function to calculate the area should be defined in subclass.` \n"
   ]
  },
  {
   "cell_type": "code",
   "execution_count": 1,
   "metadata": {},
   "outputs": [],
   "source": [
    "# Parent class for sides of the triangle...\n",
    "class Triangle:\n",
    "    def __init__(self):\n",
    "        self._a = int(input(\"> Side A: \"))\n",
    "        self._b = int(input(\"> Side B: \"))\n",
    "        self._c = int(input(\"> Side C: \"))\n",
    "    def __str__(self) :\n",
    "        return \"Sides: a=\"+self._a +\", b=\"+self._b+ \", c=\"+self._c\n",
    "\n"
   ]
  },
  {
   "cell_type": "code",
   "execution_count": 2,
   "metadata": {},
   "outputs": [],
   "source": [
    "# Child class for claculating the area of trinangle...\n",
    "class Area(Triangle):\n",
    "    def __init__(self, *args):\n",
    "        super(Area, self).__init__(*args)\n",
    "    def cal(self):\n",
    "        s = (self._a + self._b + self._c)/2\n",
    "        print('Area Of Triangle is...', (s*(s-self._a)*(s-self._b)*(s-self._c))**0.5)"
   ]
  },
  {
   "cell_type": "code",
   "execution_count": 3,
   "metadata": {},
   "outputs": [
    {
     "name": "stdout",
     "output_type": "stream",
     "text": [
      "> Side A: 7\n",
      "> Side B: 8\n",
      "> Side C: 9\n",
      "Area Of Triangle is... 26.832815729997478\n"
     ]
    }
   ],
   "source": [
    "# creating the instance of area class \n",
    "tri = Area() \n",
    "tri.cal()\n"
   ]
  },
  {
   "cell_type": "markdown",
   "metadata": {},
   "source": [
    "**1.2** `Write a function filter_long_words() that takes a list of words and an integer n and returns the list of words that are longer than n.` "
   ]
  },
  {
   "cell_type": "code",
   "execution_count": 4,
   "metadata": {},
   "outputs": [],
   "source": [
    "def filter_long_words(lst, n):\n",
    "    m =[]\n",
    "    for i in lst:\n",
    "        if len(i) > n:\n",
    "            m.append(i)\n",
    "    return(m)        "
   ]
  },
  {
   "cell_type": "code",
   "execution_count": 5,
   "metadata": {},
   "outputs": [
    {
     "name": "stdout",
     "output_type": "stream",
     "text": [
      "['that', 'is', 'Akshay', 'Paliwal', 'good', 'bad', 'are', 'a', 'in', 'happy']\n",
      "\n",
      "Words with length greater than 3 are...\n",
      "\n"
     ]
    },
    {
     "data": {
      "text/plain": [
       "['that', 'Akshay', 'Paliwal', 'good', 'happy']"
      ]
     },
     "execution_count": 5,
     "metadata": {},
     "output_type": "execute_result"
    }
   ],
   "source": [
    "lst =['that', 'is', 'Akshay', 'Paliwal', 'good', 'bad', 'are', 'a', 'in', 'happy'] \n",
    "n = 3\n",
    "print(lst)\n",
    "print('\\nWords with length greater than {} are...\\n'.format(n))\n",
    "filter_long_words(lst, n)"
   ]
  },
  {
   "cell_type": "markdown",
   "metadata": {},
   "source": [
    "**2.1** `Write a Python program using function concept that maps list of words into a list of integers representing the lengths of the corresponding words.`<br> \n",
    "`Hint: If a list [ ab,cde,erty] is passed on to the python function output should come as [2,3,4] \n",
    "Here 2,3 and 4 are the lengths of the words in the list.` \n"
   ]
  },
  {
   "cell_type": "code",
   "execution_count": 6,
   "metadata": {},
   "outputs": [],
   "source": [
    "def length_of_word(lst):\n",
    "    l=[]\n",
    "    for i in lst:\n",
    "        l.append(len(i))\n",
    "    return(l)    "
   ]
  },
  {
   "cell_type": "code",
   "execution_count": 7,
   "metadata": {},
   "outputs": [
    {
     "data": {
      "text/plain": [
       "[2, 3, 4]"
      ]
     },
     "execution_count": 7,
     "metadata": {},
     "output_type": "execute_result"
    }
   ],
   "source": [
    "lst = [ 'ab','cde','erty']\n",
    "length_of_word(lst)"
   ]
  },
  {
   "cell_type": "markdown",
   "metadata": {},
   "source": [
    "**2.2** `Write a Python function which takes a character (i.e. a string of length 1) and returns True if it is a vowel, False otherwise.`"
   ]
  },
  {
   "cell_type": "code",
   "execution_count": 8,
   "metadata": {},
   "outputs": [],
   "source": [
    "def check_vowel(c):\n",
    "    l = ['a','e','i','o','u','A','E','I','O','U']\n",
    "    if c in l:\n",
    "        return True\n",
    "    else:\n",
    "        return False\n",
    "    \n",
    "    "
   ]
  },
  {
   "cell_type": "code",
   "execution_count": 9,
   "metadata": {},
   "outputs": [
    {
     "name": "stdout",
     "output_type": "stream",
     "text": [
      "> Enter a character\n",
      "O\n"
     ]
    },
    {
     "data": {
      "text/plain": [
       "True"
      ]
     },
     "execution_count": 9,
     "metadata": {},
     "output_type": "execute_result"
    }
   ],
   "source": [
    "a = input('> Enter a character\\n')\n",
    "check_vowel(a)"
   ]
  },
  {
   "cell_type": "code",
   "execution_count": null,
   "metadata": {},
   "outputs": [],
   "source": []
  }
 ],
 "metadata": {
  "kernelspec": {
   "display_name": "Python 3",
   "language": "python",
   "name": "python3"
  },
  "language_info": {
   "codemirror_mode": {
    "name": "ipython",
    "version": 3
   },
   "file_extension": ".py",
   "mimetype": "text/x-python",
   "name": "python",
   "nbconvert_exporter": "python",
   "pygments_lexer": "ipython3",
   "version": "3.7.6"
  }
 },
 "nbformat": 4,
 "nbformat_minor": 4
}
