{
 "cells": [
  {
   "cell_type": "code",
   "execution_count": 5,
   "metadata": {},
   "outputs": [],
   "source": [
    "# Import numpy\n",
    "import numpy as np"
   ]
  },
  {
   "cell_type": "markdown",
   "metadata": {},
   "source": [
    "**1. Write a function so that the columns of the output matrix are powers of the input\n",
    "vector.**<br>\n",
    "The order of the powers is determined by the increasing boolean argument. Specifically, when\n",
    "increasing is False, the i-th output column is the input vector raised element-wise to the power\n",
    "of N - i - 1."
   ]
  },
  {
   "cell_type": "code",
   "execution_count": 106,
   "metadata": {},
   "outputs": [],
   "source": [
    "def output(lst, k):\n",
    "    a = np.vander(lst, k, increasing = False)\n",
    "    print(a)"
   ]
  },
  {
   "cell_type": "code",
   "execution_count": 109,
   "metadata": {},
   "outputs": [
    {
     "name": "stdout",
     "output_type": "stream",
     "text": [
      "> Enter comma seperated numbers for vector..1,2,3,4,5,6\n",
      "> Enter no.of columns...5\n"
     ]
    }
   ],
   "source": [
    "l = list(map(int, input(\"> Enter comma seperated numbers for vector..\").split(',')))\n",
    "k = int(input(\"> Enter no.of columns...\"))"
   ]
  },
  {
   "cell_type": "code",
   "execution_count": 110,
   "metadata": {},
   "outputs": [
    {
     "name": "stdout",
     "output_type": "stream",
     "text": [
      "[[   1    1    1    1    1]\n",
      " [  16    8    4    2    1]\n",
      " [  81   27    9    3    1]\n",
      " [ 256   64   16    4    1]\n",
      " [ 625  125   25    5    1]\n",
      " [1296  216   36    6    1]]\n"
     ]
    }
   ],
   "source": [
    "output(l, k)"
   ]
  },
  {
   "cell_type": "markdown",
   "metadata": {},
   "source": [
    "**2. Write a function to find moving average in an array over a window:**<br>\n",
    "\n",
    "Test it over [3, 5, 7, 2, 8, 10, 11, 65, 72, 81, 99, 100, 150] and window of 3."
   ]
  },
  {
   "cell_type": "code",
   "execution_count": 51,
   "metadata": {},
   "outputs": [],
   "source": [
    "def moving_avg(lst, k):\n",
    "    print(\"Array = \",lst)\n",
    "    print('Window size = ',k)\n",
    "    for i in range(len(lst)-k+1):\n",
    "        avg = np.sum(lst[i:i+k])/k\n",
    "        print('Moving average {} = {}'.format(i+1, avg))\n",
    "        "
   ]
  },
  {
   "cell_type": "code",
   "execution_count": 52,
   "metadata": {
    "scrolled": true
   },
   "outputs": [
    {
     "name": "stdout",
     "output_type": "stream",
     "text": [
      "> Enter comma seperated numbers for array..3, 5, 7, 2, 8, 10, 11, 65, 72, 81, 99, 100, 150\n",
      "> Enter Window size...3\n"
     ]
    }
   ],
   "source": [
    "l = list(map(int, input(\"> Enter comma seperated numbers for array..\").split(',')))\n",
    "k = int(input(\"> Enter Window size...\"))"
   ]
  },
  {
   "cell_type": "code",
   "execution_count": 49,
   "metadata": {},
   "outputs": [
    {
     "name": "stdout",
     "output_type": "stream",
     "text": [
      "Array =  [ 1  2  3  4  5  6  7  8  9 10]\n",
      "Window size =  4\n",
      "Moving average 1 = 2.5\n",
      "Moving average 2 = 3.5\n",
      "Moving average 3 = 4.5\n",
      "Moving average 4 = 5.5\n",
      "Moving average 5 = 6.5\n",
      "Moving average 6 = 7.5\n",
      "Moving average 7 = 8.5\n"
     ]
    }
   ],
   "source": [
    "moving_avg(np.array(l), k)"
   ]
  },
  {
   "cell_type": "code",
   "execution_count": 53,
   "metadata": {},
   "outputs": [
    {
     "name": "stdout",
     "output_type": "stream",
     "text": [
      "Array =  [  3   5   7   2   8  10  11  65  72  81  99 100 150]\n",
      "Window size =  3\n",
      "Moving average 1 = 5.0\n",
      "Moving average 2 = 4.666666666666667\n",
      "Moving average 3 = 5.666666666666667\n",
      "Moving average 4 = 6.666666666666667\n",
      "Moving average 5 = 9.666666666666666\n",
      "Moving average 6 = 28.666666666666668\n",
      "Moving average 7 = 49.333333333333336\n",
      "Moving average 8 = 72.66666666666667\n",
      "Moving average 9 = 84.0\n",
      "Moving average 10 = 93.33333333333333\n",
      "Moving average 11 = 116.33333333333333\n"
     ]
    }
   ],
   "source": [
    "moving_avg(np.array(l), k)"
   ]
  },
  {
   "cell_type": "code",
   "execution_count": null,
   "metadata": {},
   "outputs": [],
   "source": []
  }
 ],
 "metadata": {
  "kernelspec": {
   "display_name": "Python 3",
   "language": "python",
   "name": "python3"
  },
  "language_info": {
   "codemirror_mode": {
    "name": "ipython",
    "version": 3
   },
   "file_extension": ".py",
   "mimetype": "text/x-python",
   "name": "python",
   "nbconvert_exporter": "python",
   "pygments_lexer": "ipython3",
   "version": "3.7.6"
  }
 },
 "nbformat": 4,
 "nbformat_minor": 4
}
