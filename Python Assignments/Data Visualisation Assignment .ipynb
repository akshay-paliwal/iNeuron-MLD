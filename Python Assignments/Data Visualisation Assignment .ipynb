{
 "cells": [
  {
   "cell_type": "markdown",
   "metadata": {},
   "source": [
    "**1. In this assignment students have to transform iris data into 3 dimensions\n",
    "and plot a 3d chart with transformed dimensions and colour each data\n",
    "point with specific class.**"
   ]
  },
  {
   "cell_type": "code",
   "execution_count": 1,
   "metadata": {},
   "outputs": [],
   "source": [
    "import numpy as np\n",
    "import pandas as pd\n",
    "import sklearn\n",
    "import matplotlib.pyplot as plt\n",
    "from mpl_toolkits.mplot3d import Axes3D\n",
    "from sklearn import decomposition\n",
    "import plotly.express as px\n"
   ]
  },
  {
   "cell_type": "code",
   "execution_count": 2,
   "metadata": {},
   "outputs": [],
   "source": [
    "#Load the dataset\n",
    "url = \"https://archive.ics.uci.edu/ml/machine-learning-databases/iris/iris.data\"\n",
    "iris = pd.read_csv(url, names=['sepal length','sepal width','petal length','petal width','Species'])"
   ]
  },
  {
   "cell_type": "code",
   "execution_count": 3,
   "metadata": {},
   "outputs": [
    {
     "name": "stdout",
     "output_type": "stream",
     "text": [
      "[[5.1 3.5 1.4 0.2]\n",
      " [4.9 3.  1.4 0.2]\n",
      " [4.7 3.2 1.3 0.2]\n",
      " [4.6 3.1 1.5 0.2]\n",
      " [5.  3.6 1.4 0.2]\n",
      " [5.4 3.9 1.7 0.4]\n",
      " [4.6 3.4 1.4 0.3]\n",
      " [5.  3.4 1.5 0.2]\n",
      " [4.4 2.9 1.4 0.2]\n",
      " [4.9 3.1 1.5 0.1]\n",
      " [5.4 3.7 1.5 0.2]\n",
      " [4.8 3.4 1.6 0.2]\n",
      " [4.8 3.  1.4 0.1]\n",
      " [4.3 3.  1.1 0.1]\n",
      " [5.8 4.  1.2 0.2]\n",
      " [5.7 4.4 1.5 0.4]\n",
      " [5.4 3.9 1.3 0.4]\n",
      " [5.1 3.5 1.4 0.3]\n",
      " [5.7 3.8 1.7 0.3]\n",
      " [5.1 3.8 1.5 0.3]\n",
      " [5.4 3.4 1.7 0.2]\n",
      " [5.1 3.7 1.5 0.4]\n",
      " [4.6 3.6 1.  0.2]\n",
      " [5.1 3.3 1.7 0.5]\n",
      " [4.8 3.4 1.9 0.2]\n",
      " [5.  3.  1.6 0.2]\n",
      " [5.  3.4 1.6 0.4]\n",
      " [5.2 3.5 1.5 0.2]\n",
      " [5.2 3.4 1.4 0.2]\n",
      " [4.7 3.2 1.6 0.2]\n",
      " [4.8 3.1 1.6 0.2]\n",
      " [5.4 3.4 1.5 0.4]\n",
      " [5.2 4.1 1.5 0.1]\n",
      " [5.5 4.2 1.4 0.2]\n",
      " [4.9 3.1 1.5 0.1]\n",
      " [5.  3.2 1.2 0.2]\n",
      " [5.5 3.5 1.3 0.2]\n",
      " [4.9 3.1 1.5 0.1]\n",
      " [4.4 3.  1.3 0.2]\n",
      " [5.1 3.4 1.5 0.2]\n",
      " [5.  3.5 1.3 0.3]\n",
      " [4.5 2.3 1.3 0.3]\n",
      " [4.4 3.2 1.3 0.2]\n",
      " [5.  3.5 1.6 0.6]\n",
      " [5.1 3.8 1.9 0.4]\n",
      " [4.8 3.  1.4 0.3]\n",
      " [5.1 3.8 1.6 0.2]\n",
      " [4.6 3.2 1.4 0.2]\n",
      " [5.3 3.7 1.5 0.2]\n",
      " [5.  3.3 1.4 0.2]\n",
      " [7.  3.2 4.7 1.4]\n",
      " [6.4 3.2 4.5 1.5]\n",
      " [6.9 3.1 4.9 1.5]\n",
      " [5.5 2.3 4.  1.3]\n",
      " [6.5 2.8 4.6 1.5]\n",
      " [5.7 2.8 4.5 1.3]\n",
      " [6.3 3.3 4.7 1.6]\n",
      " [4.9 2.4 3.3 1. ]\n",
      " [6.6 2.9 4.6 1.3]\n",
      " [5.2 2.7 3.9 1.4]\n",
      " [5.  2.  3.5 1. ]\n",
      " [5.9 3.  4.2 1.5]\n",
      " [6.  2.2 4.  1. ]\n",
      " [6.1 2.9 4.7 1.4]\n",
      " [5.6 2.9 3.6 1.3]\n",
      " [6.7 3.1 4.4 1.4]\n",
      " [5.6 3.  4.5 1.5]\n",
      " [5.8 2.7 4.1 1. ]\n",
      " [6.2 2.2 4.5 1.5]\n",
      " [5.6 2.5 3.9 1.1]\n",
      " [5.9 3.2 4.8 1.8]\n",
      " [6.1 2.8 4.  1.3]\n",
      " [6.3 2.5 4.9 1.5]\n",
      " [6.1 2.8 4.7 1.2]\n",
      " [6.4 2.9 4.3 1.3]\n",
      " [6.6 3.  4.4 1.4]\n",
      " [6.8 2.8 4.8 1.4]\n",
      " [6.7 3.  5.  1.7]\n",
      " [6.  2.9 4.5 1.5]\n",
      " [5.7 2.6 3.5 1. ]\n",
      " [5.5 2.4 3.8 1.1]\n",
      " [5.5 2.4 3.7 1. ]\n",
      " [5.8 2.7 3.9 1.2]\n",
      " [6.  2.7 5.1 1.6]\n",
      " [5.4 3.  4.5 1.5]\n",
      " [6.  3.4 4.5 1.6]\n",
      " [6.7 3.1 4.7 1.5]\n",
      " [6.3 2.3 4.4 1.3]\n",
      " [5.6 3.  4.1 1.3]\n",
      " [5.5 2.5 4.  1.3]\n",
      " [5.5 2.6 4.4 1.2]\n",
      " [6.1 3.  4.6 1.4]\n",
      " [5.8 2.6 4.  1.2]\n",
      " [5.  2.3 3.3 1. ]\n",
      " [5.6 2.7 4.2 1.3]\n",
      " [5.7 3.  4.2 1.2]\n",
      " [5.7 2.9 4.2 1.3]\n",
      " [6.2 2.9 4.3 1.3]\n",
      " [5.1 2.5 3.  1.1]\n",
      " [5.7 2.8 4.1 1.3]\n",
      " [6.3 3.3 6.  2.5]\n",
      " [5.8 2.7 5.1 1.9]\n",
      " [7.1 3.  5.9 2.1]\n",
      " [6.3 2.9 5.6 1.8]\n",
      " [6.5 3.  5.8 2.2]\n",
      " [7.6 3.  6.6 2.1]\n",
      " [4.9 2.5 4.5 1.7]\n",
      " [7.3 2.9 6.3 1.8]\n",
      " [6.7 2.5 5.8 1.8]\n",
      " [7.2 3.6 6.1 2.5]\n",
      " [6.5 3.2 5.1 2. ]\n",
      " [6.4 2.7 5.3 1.9]\n",
      " [6.8 3.  5.5 2.1]\n",
      " [5.7 2.5 5.  2. ]\n",
      " [5.8 2.8 5.1 2.4]\n",
      " [6.4 3.2 5.3 2.3]\n",
      " [6.5 3.  5.5 1.8]\n",
      " [7.7 3.8 6.7 2.2]\n",
      " [7.7 2.6 6.9 2.3]\n",
      " [6.  2.2 5.  1.5]\n",
      " [6.9 3.2 5.7 2.3]\n",
      " [5.6 2.8 4.9 2. ]\n",
      " [7.7 2.8 6.7 2. ]\n",
      " [6.3 2.7 4.9 1.8]\n",
      " [6.7 3.3 5.7 2.1]\n",
      " [7.2 3.2 6.  1.8]\n",
      " [6.2 2.8 4.8 1.8]\n",
      " [6.1 3.  4.9 1.8]\n",
      " [6.4 2.8 5.6 2.1]\n",
      " [7.2 3.  5.8 1.6]\n",
      " [7.4 2.8 6.1 1.9]\n",
      " [7.9 3.8 6.4 2. ]\n",
      " [6.4 2.8 5.6 2.2]\n",
      " [6.3 2.8 5.1 1.5]\n",
      " [6.1 2.6 5.6 1.4]\n",
      " [7.7 3.  6.1 2.3]\n",
      " [6.3 3.4 5.6 2.4]\n",
      " [6.4 3.1 5.5 1.8]\n",
      " [6.  3.  4.8 1.8]\n",
      " [6.9 3.1 5.4 2.1]\n",
      " [6.7 3.1 5.6 2.4]\n",
      " [6.9 3.1 5.1 2.3]\n",
      " [5.8 2.7 5.1 1.9]\n",
      " [6.8 3.2 5.9 2.3]\n",
      " [6.7 3.3 5.7 2.5]\n",
      " [6.7 3.  5.2 2.3]\n",
      " [6.3 2.5 5.  1.9]\n",
      " [6.5 3.  5.2 2. ]\n",
      " [6.2 3.4 5.4 2.3]\n",
      " [5.9 3.  5.1 1.8]]\n",
      "[['Iris-setosa']\n",
      " ['Iris-setosa']\n",
      " ['Iris-setosa']\n",
      " ['Iris-setosa']\n",
      " ['Iris-setosa']\n",
      " ['Iris-setosa']\n",
      " ['Iris-setosa']\n",
      " ['Iris-setosa']\n",
      " ['Iris-setosa']\n",
      " ['Iris-setosa']\n",
      " ['Iris-setosa']\n",
      " ['Iris-setosa']\n",
      " ['Iris-setosa']\n",
      " ['Iris-setosa']\n",
      " ['Iris-setosa']\n",
      " ['Iris-setosa']\n",
      " ['Iris-setosa']\n",
      " ['Iris-setosa']\n",
      " ['Iris-setosa']\n",
      " ['Iris-setosa']\n",
      " ['Iris-setosa']\n",
      " ['Iris-setosa']\n",
      " ['Iris-setosa']\n",
      " ['Iris-setosa']\n",
      " ['Iris-setosa']\n",
      " ['Iris-setosa']\n",
      " ['Iris-setosa']\n",
      " ['Iris-setosa']\n",
      " ['Iris-setosa']\n",
      " ['Iris-setosa']\n",
      " ['Iris-setosa']\n",
      " ['Iris-setosa']\n",
      " ['Iris-setosa']\n",
      " ['Iris-setosa']\n",
      " ['Iris-setosa']\n",
      " ['Iris-setosa']\n",
      " ['Iris-setosa']\n",
      " ['Iris-setosa']\n",
      " ['Iris-setosa']\n",
      " ['Iris-setosa']\n",
      " ['Iris-setosa']\n",
      " ['Iris-setosa']\n",
      " ['Iris-setosa']\n",
      " ['Iris-setosa']\n",
      " ['Iris-setosa']\n",
      " ['Iris-setosa']\n",
      " ['Iris-setosa']\n",
      " ['Iris-setosa']\n",
      " ['Iris-setosa']\n",
      " ['Iris-setosa']\n",
      " ['Iris-versicolor']\n",
      " ['Iris-versicolor']\n",
      " ['Iris-versicolor']\n",
      " ['Iris-versicolor']\n",
      " ['Iris-versicolor']\n",
      " ['Iris-versicolor']\n",
      " ['Iris-versicolor']\n",
      " ['Iris-versicolor']\n",
      " ['Iris-versicolor']\n",
      " ['Iris-versicolor']\n",
      " ['Iris-versicolor']\n",
      " ['Iris-versicolor']\n",
      " ['Iris-versicolor']\n",
      " ['Iris-versicolor']\n",
      " ['Iris-versicolor']\n",
      " ['Iris-versicolor']\n",
      " ['Iris-versicolor']\n",
      " ['Iris-versicolor']\n",
      " ['Iris-versicolor']\n",
      " ['Iris-versicolor']\n",
      " ['Iris-versicolor']\n",
      " ['Iris-versicolor']\n",
      " ['Iris-versicolor']\n",
      " ['Iris-versicolor']\n",
      " ['Iris-versicolor']\n",
      " ['Iris-versicolor']\n",
      " ['Iris-versicolor']\n",
      " ['Iris-versicolor']\n",
      " ['Iris-versicolor']\n",
      " ['Iris-versicolor']\n",
      " ['Iris-versicolor']\n",
      " ['Iris-versicolor']\n",
      " ['Iris-versicolor']\n",
      " ['Iris-versicolor']\n",
      " ['Iris-versicolor']\n",
      " ['Iris-versicolor']\n",
      " ['Iris-versicolor']\n",
      " ['Iris-versicolor']\n",
      " ['Iris-versicolor']\n",
      " ['Iris-versicolor']\n",
      " ['Iris-versicolor']\n",
      " ['Iris-versicolor']\n",
      " ['Iris-versicolor']\n",
      " ['Iris-versicolor']\n",
      " ['Iris-versicolor']\n",
      " ['Iris-versicolor']\n",
      " ['Iris-versicolor']\n",
      " ['Iris-versicolor']\n",
      " ['Iris-versicolor']\n",
      " ['Iris-versicolor']\n",
      " ['Iris-virginica']\n",
      " ['Iris-virginica']\n",
      " ['Iris-virginica']\n",
      " ['Iris-virginica']\n",
      " ['Iris-virginica']\n",
      " ['Iris-virginica']\n",
      " ['Iris-virginica']\n",
      " ['Iris-virginica']\n",
      " ['Iris-virginica']\n",
      " ['Iris-virginica']\n",
      " ['Iris-virginica']\n",
      " ['Iris-virginica']\n",
      " ['Iris-virginica']\n",
      " ['Iris-virginica']\n",
      " ['Iris-virginica']\n",
      " ['Iris-virginica']\n",
      " ['Iris-virginica']\n",
      " ['Iris-virginica']\n",
      " ['Iris-virginica']\n",
      " ['Iris-virginica']\n",
      " ['Iris-virginica']\n",
      " ['Iris-virginica']\n",
      " ['Iris-virginica']\n",
      " ['Iris-virginica']\n",
      " ['Iris-virginica']\n",
      " ['Iris-virginica']\n",
      " ['Iris-virginica']\n",
      " ['Iris-virginica']\n",
      " ['Iris-virginica']\n",
      " ['Iris-virginica']\n",
      " ['Iris-virginica']\n",
      " ['Iris-virginica']\n",
      " ['Iris-virginica']\n",
      " ['Iris-virginica']\n",
      " ['Iris-virginica']\n",
      " ['Iris-virginica']\n",
      " ['Iris-virginica']\n",
      " ['Iris-virginica']\n",
      " ['Iris-virginica']\n",
      " ['Iris-virginica']\n",
      " ['Iris-virginica']\n",
      " ['Iris-virginica']\n",
      " ['Iris-virginica']\n",
      " ['Iris-virginica']\n",
      " ['Iris-virginica']\n",
      " ['Iris-virginica']\n",
      " ['Iris-virginica']\n",
      " ['Iris-virginica']\n",
      " ['Iris-virginica']\n",
      " ['Iris-virginica']]\n"
     ]
    }
   ],
   "source": [
    "f = ['sepal length', 'sepal width', 'petal length', 'petal width']\n",
    "x = iris.loc[:, f].values  \n",
    "y = iris.loc[:, ['Species']].values\n",
    "print(x)\n",
    "print(y)"
   ]
  },
  {
   "cell_type": "code",
   "execution_count": 4,
   "metadata": {},
   "outputs": [
    {
     "data": {
      "text/html": [
       "<div>\n",
       "<style scoped>\n",
       "    .dataframe tbody tr th:only-of-type {\n",
       "        vertical-align: middle;\n",
       "    }\n",
       "\n",
       "    .dataframe tbody tr th {\n",
       "        vertical-align: top;\n",
       "    }\n",
       "\n",
       "    .dataframe thead th {\n",
       "        text-align: right;\n",
       "    }\n",
       "</style>\n",
       "<table border=\"1\" class=\"dataframe\">\n",
       "  <thead>\n",
       "    <tr style=\"text-align: right;\">\n",
       "      <th></th>\n",
       "      <th>D1</th>\n",
       "      <th>D2</th>\n",
       "      <th>D3</th>\n",
       "    </tr>\n",
       "  </thead>\n",
       "  <tbody>\n",
       "    <tr>\n",
       "      <th>0</th>\n",
       "      <td>-2.684207</td>\n",
       "      <td>0.326607</td>\n",
       "      <td>-0.021512</td>\n",
       "    </tr>\n",
       "    <tr>\n",
       "      <th>1</th>\n",
       "      <td>-2.715391</td>\n",
       "      <td>-0.169557</td>\n",
       "      <td>-0.203521</td>\n",
       "    </tr>\n",
       "    <tr>\n",
       "      <th>2</th>\n",
       "      <td>-2.889820</td>\n",
       "      <td>-0.137346</td>\n",
       "      <td>0.024709</td>\n",
       "    </tr>\n",
       "    <tr>\n",
       "      <th>3</th>\n",
       "      <td>-2.746437</td>\n",
       "      <td>-0.311124</td>\n",
       "      <td>0.037672</td>\n",
       "    </tr>\n",
       "    <tr>\n",
       "      <th>4</th>\n",
       "      <td>-2.728593</td>\n",
       "      <td>0.333925</td>\n",
       "      <td>0.096230</td>\n",
       "    </tr>\n",
       "    <tr>\n",
       "      <th>...</th>\n",
       "      <td>...</td>\n",
       "      <td>...</td>\n",
       "      <td>...</td>\n",
       "    </tr>\n",
       "    <tr>\n",
       "      <th>145</th>\n",
       "      <td>1.944017</td>\n",
       "      <td>0.187415</td>\n",
       "      <td>0.179303</td>\n",
       "    </tr>\n",
       "    <tr>\n",
       "      <th>146</th>\n",
       "      <td>1.525664</td>\n",
       "      <td>-0.375021</td>\n",
       "      <td>-0.120636</td>\n",
       "    </tr>\n",
       "    <tr>\n",
       "      <th>147</th>\n",
       "      <td>1.764046</td>\n",
       "      <td>0.078519</td>\n",
       "      <td>0.130784</td>\n",
       "    </tr>\n",
       "    <tr>\n",
       "      <th>148</th>\n",
       "      <td>1.901629</td>\n",
       "      <td>0.115877</td>\n",
       "      <td>0.722874</td>\n",
       "    </tr>\n",
       "    <tr>\n",
       "      <th>149</th>\n",
       "      <td>1.389666</td>\n",
       "      <td>-0.282887</td>\n",
       "      <td>0.362318</td>\n",
       "    </tr>\n",
       "  </tbody>\n",
       "</table>\n",
       "<p>150 rows × 3 columns</p>\n",
       "</div>"
      ],
      "text/plain": [
       "           D1        D2        D3\n",
       "0   -2.684207  0.326607 -0.021512\n",
       "1   -2.715391 -0.169557 -0.203521\n",
       "2   -2.889820 -0.137346  0.024709\n",
       "3   -2.746437 -0.311124  0.037672\n",
       "4   -2.728593  0.333925  0.096230\n",
       "..        ...       ...       ...\n",
       "145  1.944017  0.187415  0.179303\n",
       "146  1.525664 -0.375021 -0.120636\n",
       "147  1.764046  0.078519  0.130784\n",
       "148  1.901629  0.115877  0.722874\n",
       "149  1.389666 -0.282887  0.362318\n",
       "\n",
       "[150 rows x 3 columns]"
      ]
     },
     "execution_count": 4,
     "metadata": {},
     "output_type": "execute_result"
    }
   ],
   "source": [
    "# reducing the data from 4 dimensions to 3 dimensions\n",
    "pca = decomposition.PCA(n_components=3)\n",
    "principalComponents = pca.fit_transform(x)\n",
    "principalDf = pd.DataFrame(data = principalComponents, columns = ['D1', 'D2', 'D3'])\n",
    "principalDf"
   ]
  },
  {
   "cell_type": "code",
   "execution_count": 5,
   "metadata": {},
   "outputs": [
    {
     "name": "stdout",
     "output_type": "stream",
     "text": [
      "<class 'pandas.core.frame.DataFrame'>\n"
     ]
    },
    {
     "data": {
      "text/html": [
       "<div>\n",
       "<style scoped>\n",
       "    .dataframe tbody tr th:only-of-type {\n",
       "        vertical-align: middle;\n",
       "    }\n",
       "\n",
       "    .dataframe tbody tr th {\n",
       "        vertical-align: top;\n",
       "    }\n",
       "\n",
       "    .dataframe thead th {\n",
       "        text-align: right;\n",
       "    }\n",
       "</style>\n",
       "<table border=\"1\" class=\"dataframe\">\n",
       "  <thead>\n",
       "    <tr style=\"text-align: right;\">\n",
       "      <th></th>\n",
       "      <th>D1</th>\n",
       "      <th>D2</th>\n",
       "      <th>D3</th>\n",
       "      <th>Species</th>\n",
       "    </tr>\n",
       "  </thead>\n",
       "  <tbody>\n",
       "    <tr>\n",
       "      <th>0</th>\n",
       "      <td>-2.684207</td>\n",
       "      <td>0.326607</td>\n",
       "      <td>-0.021512</td>\n",
       "      <td>Iris-setosa</td>\n",
       "    </tr>\n",
       "    <tr>\n",
       "      <th>1</th>\n",
       "      <td>-2.715391</td>\n",
       "      <td>-0.169557</td>\n",
       "      <td>-0.203521</td>\n",
       "      <td>Iris-setosa</td>\n",
       "    </tr>\n",
       "    <tr>\n",
       "      <th>2</th>\n",
       "      <td>-2.889820</td>\n",
       "      <td>-0.137346</td>\n",
       "      <td>0.024709</td>\n",
       "      <td>Iris-setosa</td>\n",
       "    </tr>\n",
       "    <tr>\n",
       "      <th>3</th>\n",
       "      <td>-2.746437</td>\n",
       "      <td>-0.311124</td>\n",
       "      <td>0.037672</td>\n",
       "      <td>Iris-setosa</td>\n",
       "    </tr>\n",
       "    <tr>\n",
       "      <th>4</th>\n",
       "      <td>-2.728593</td>\n",
       "      <td>0.333925</td>\n",
       "      <td>0.096230</td>\n",
       "      <td>Iris-setosa</td>\n",
       "    </tr>\n",
       "    <tr>\n",
       "      <th>...</th>\n",
       "      <td>...</td>\n",
       "      <td>...</td>\n",
       "      <td>...</td>\n",
       "      <td>...</td>\n",
       "    </tr>\n",
       "    <tr>\n",
       "      <th>145</th>\n",
       "      <td>1.944017</td>\n",
       "      <td>0.187415</td>\n",
       "      <td>0.179303</td>\n",
       "      <td>Iris-virginica</td>\n",
       "    </tr>\n",
       "    <tr>\n",
       "      <th>146</th>\n",
       "      <td>1.525664</td>\n",
       "      <td>-0.375021</td>\n",
       "      <td>-0.120636</td>\n",
       "      <td>Iris-virginica</td>\n",
       "    </tr>\n",
       "    <tr>\n",
       "      <th>147</th>\n",
       "      <td>1.764046</td>\n",
       "      <td>0.078519</td>\n",
       "      <td>0.130784</td>\n",
       "      <td>Iris-virginica</td>\n",
       "    </tr>\n",
       "    <tr>\n",
       "      <th>148</th>\n",
       "      <td>1.901629</td>\n",
       "      <td>0.115877</td>\n",
       "      <td>0.722874</td>\n",
       "      <td>Iris-virginica</td>\n",
       "    </tr>\n",
       "    <tr>\n",
       "      <th>149</th>\n",
       "      <td>1.389666</td>\n",
       "      <td>-0.282887</td>\n",
       "      <td>0.362318</td>\n",
       "      <td>Iris-virginica</td>\n",
       "    </tr>\n",
       "  </tbody>\n",
       "</table>\n",
       "<p>150 rows × 4 columns</p>\n",
       "</div>"
      ],
      "text/plain": [
       "           D1        D2        D3         Species\n",
       "0   -2.684207  0.326607 -0.021512     Iris-setosa\n",
       "1   -2.715391 -0.169557 -0.203521     Iris-setosa\n",
       "2   -2.889820 -0.137346  0.024709     Iris-setosa\n",
       "3   -2.746437 -0.311124  0.037672     Iris-setosa\n",
       "4   -2.728593  0.333925  0.096230     Iris-setosa\n",
       "..        ...       ...       ...             ...\n",
       "145  1.944017  0.187415  0.179303  Iris-virginica\n",
       "146  1.525664 -0.375021 -0.120636  Iris-virginica\n",
       "147  1.764046  0.078519  0.130784  Iris-virginica\n",
       "148  1.901629  0.115877  0.722874  Iris-virginica\n",
       "149  1.389666 -0.282887  0.362318  Iris-virginica\n",
       "\n",
       "[150 rows x 4 columns]"
      ]
     },
     "execution_count": 5,
     "metadata": {},
     "output_type": "execute_result"
    }
   ],
   "source": [
    "finalDf = pd.concat([principalDf, iris[['Species']]], axis = 1)\n",
    "print(type(finalDf))\n",
    "finalDf"
   ]
  },
  {
   "cell_type": "code",
   "execution_count": 6,
   "metadata": {},
   "outputs": [
    {
     "data": {
      "image/png": "[encoded data removed]",
      "text/plain": [
       "<Figure size 576x576 with 1 Axes>"
      ]
     },
     "metadata": {
      "needs_background": "light"
     },
     "output_type": "display_data"
    }
   ],
   "source": [
    "fig = plt.figure(figsize = (8,8))\n",
    "ax = fig.add_subplot(111, projection='3d')\n",
    "ax.set_xlabel('Dimension 1', fontsize = 15)\n",
    "ax.set_ylabel('Dimension 2', fontsize = 15)\n",
    "ax.set_zlabel('Dimension 3', fontsize = 15)\n",
    "ax.set_title('3D Chart', fontsize = 20)\n",
    "\n",
    "targets = ['Iris-setosa', 'Iris-versicolor', 'Iris-virginica']\n",
    "colors = ['black', 'g', 'b']\n",
    "for target, color in zip(targets,colors):\n",
    "    indicesToKeep = finalDf['Species'] == target\n",
    "    ax.scatter(finalDf.loc[indicesToKeep, 'D1']\n",
    "               , finalDf.loc[indicesToKeep, 'D2']\n",
    "               , finalDf.loc[indicesToKeep, 'D3']\n",
    "               , c = color\n",
    "               , s = 50)\n",
    "ax.legend(targets)\n",
    "ax.grid()\n",
    "plt.show()"
   ]
  },
  {
   "cell_type": "code",
   "execution_count": 15,
   "metadata": {},
   "outputs": [
    {
     "data": {
      "application/vnd.plotly.v1+json": {
       "config": {
        "plotlyServerURL": "https://plot.ly"
       },
       "data": [
        {
         "hovertemplate": "Species=Iris-setosa<br>D1=%{x}<br>D2=%{y}<br>D3=%{z}<extra></extra>",
         "legendgroup": "Iris-setosa",
         "marker": {
          "color": "#636efa",
          "symbol": "circle"
         },
         "mode": "markers",
         "name": "Iris-setosa",
         "scene": "scene",
         "showlegend": true,
         "type": "scatter3d",
         "x": [
          -2.684207125103951,
          -2.7153906156341314,
          -2.8898195396179154,
          -2.746437197308735,
          -2.7285929818313153,
          -2.279897361009598,
          -2.8208906821806305,
          -2.6264819933238197,
          -2.8879585653356354,
          -2.6738446867191215,
          -2.5065267893389036,
          -2.6131427182710567,
          -2.7874339759970983,
          -3.2252004462749815,
          -2.6435432169411457,
          -2.383869323799375,
          -2.6225262031258088,
          -2.6483227324791265,
          -2.1990779614307634,
          -2.5873461889177385,
          -2.310531701313134,
          -2.5432349073036953,
          -3.2158576949001056,
          -2.303128537663883,
          -2.3561710866838985,
          -2.507917226837881,
          -2.4690559975451234,
          -2.5623909468367505,
          -2.6398212683765823,
          -2.6328479080307585,
          -2.588462051303392,
          -2.410077337121596,
          -2.647636673396901,
          -2.5971594770759183,
          -2.6738446867191215,
          -2.8669998469325346,
          -2.6252284646804207,
          -2.6738446867191215,
          -2.981842664853909,
          -2.590323025585674,
          -2.770138910746325,
          -2.852211081566393,
          -2.9982964428323515,
          -2.4055141012847017,
          -2.2088329541767058,
          -2.715665190747455,
          -2.5375733710135076,
          -2.840321296827009,
          -2.5426857570770487,
          -2.7039123148636506
         ],
         "y": [
          0.3266073147643887,
          -0.16955684755602615,
          -0.13734560960502806,
          -0.3111243157519917,
          0.33392456356845446,
          0.7477827132251331,
          -0.08210451102468097,
          0.17040534896028964,
          -0.5707980263315915,
          -0.10669170375273856,
          0.6519350136725716,
          0.021520631960257813,
          -0.22774018887110628,
          -0.5032799094854257,
          1.1861948994134486,
          1.3447543445598613,
          0.8180896745965947,
          0.3191366677508844,
          0.8792440880917363,
          0.5204736388059676,
          0.39786782158889167,
          0.440031754659815,
          0.1416155716255835,
          0.10552267842998217,
          -0.03120958906833846,
          -0.13905633991317407,
          0.13788731459041756,
          0.37468456275010587,
          0.31929006596032167,
          -0.19007583063362413,
          -0.19739307943769088,
          0.4180800082476159,
          0.8199826325595063,
          1.1000219280072678,
          -0.10669170375273856,
          0.07719309572358705,
          0.606800008421586,
          -0.10669170375273856,
          -0.48025004885607653,
          0.23605933728887268,
          0.27105941976516684,
          -0.9328653674695442,
          -0.3343075745907772,
          0.1959172576960606,
          0.44269603042100264,
          -0.24268148289811292,
          0.5103675454766056,
          -0.2205763382764766,
          0.5862810253439881,
          0.1150108521705055
         ],
         "z": [
          -0.0215118370019632,
          -0.20352142500549122,
          0.024709240998957247,
          0.037671975285301064,
          0.09622969977460934,
          0.17432561901640292,
          0.2642510851906961,
          -0.01580151026431512,
          0.027335406114507254,
          -0.1915332997356448,
          -0.06927499581393107,
          0.10765035324990467,
          -0.20032778809538937,
          0.06841362917233035,
          -0.14450570400963547,
          0.28373066393977703,
          0.14531598882161798,
          0.0333942540706981,
          -0.11452146479835289,
          0.2195720880008251,
          -0.23369560709796958,
          0.2148363702796755,
          0.29961898151087135,
          0.04568004127448713,
          0.12940757589599336,
          -0.2471163378908599,
          0.10126307942970222,
          -0.07235915743602825,
          -0.13925337377853483,
          0.04646646364504577,
          -0.07127507313152606,
          -0.13838824005004097,
          0.2305856042541727,
          0.16358191262366267,
          -0.1915332997356448,
          -0.1568423504980242,
          -0.2611631564817056,
          -0.1915332997356448,
          0.07972480735962137,
          -0.07390123824707656,
          0.08424157450476336,
          -0.34096149110715174,
          0.19900842494724205,
          0.2707170703688337,
          0.3034878092682705,
          -0.09051560595006831,
          0.1719184044768607,
          0.09006137653041518,
          -0.011175267831169088,
          -0.08269572660682169
         ]
        },
        {
         "hovertemplate": "Species=Iris-versicolor<br>D1=%{x}<br>D2=%{y}<br>D3=%{z}<extra></extra>",
         "legendgroup": "Iris-versicolor",
         "marker": {
          "color": "#EF553B",
          "symbol": "circle"
         },
         "mode": "markers",
         "name": "Iris-versicolor",
         "scene": "scene",
         "showlegend": true,
         "type": "scatter3d",
         "x": [
          1.284794587845072,
          0.9324107529829181,
          1.4640613227790762,
          0.18096720634769878,
          1.0871344872070012,
          0.6404367495231456,
          1.0952237099384787,
          -0.7514671406482274,
          1.0432977807062815,
          -0.010190070727853457,
          -0.5110861958950911,
          0.5110980606834775,
          0.26233575615318055,
          0.9840445451694313,
          -0.17486400196569613,
          0.9275729420327005,
          0.6595927890562006,
          0.2345405862598358,
          0.9423617073988422,
          0.04324640032870467,
          1.116240723753816,
          0.3567865678304616,
          1.2964688502855342,
          0.9205026489090097,
          0.7140082136428336,
          0.8996408632837763,
          1.3310414188547206,
          1.5573962720707029,
          0.8124555489980023,
          -0.30733475566340424,
          -0.07034288894927154,
          -0.19188449210314568,
          0.13499495045137347,
          1.378736982775583,
          0.5872748535799108,
          0.8072054966767167,
          1.2204289662446803,
          0.8128677903690701,
          0.24519516169034603,
          0.16451342836925573,
          0.46303098887142424,
          0.8901604456511567,
          0.22887904996964778,
          -0.707081283920861,
          0.35553303918706347,
          0.33112694733272285,
          0.37523822894676584,
          0.6416902781665434,
          -0.9084633331234955,
          0.29780790740693397
         ],
         "y": [
          0.6854391861329197,
          0.31919808983364856,
          0.5041898329724529,
          -0.8256039435761129,
          0.07539038928876747,
          -0.41732348297002547,
          0.28389121093848024,
          -1.0011075129743938,
          0.22895690877700672,
          -0.7205748667019012,
          -1.2624919538621397,
          -0.10228410504597014,
          -0.5478932980253364,
          -0.12436042022227783,
          -0.2518155710801704,
          0.46823620504311686,
          -0.3519762910603163,
          -0.33192182936212017,
          -0.5418222581500136,
          -0.5814894466123582,
          -0.08421401387837342,
          -0.06682382794136613,
          -0.3275615197949439,
          -0.18239036332792088,
          0.1503791531484372,
          0.32961097958188385,
          0.24466952060228914,
          0.2673925848127647,
          -0.16233157487863317,
          -0.3650866127661601,
          -0.7025379317307257,
          -0.677490544374357,
          -0.311709642703396,
          -0.4212051382146281,
          -0.48328426771748223,
          0.19505396377111137,
          0.4080353370010173,
          -0.37067899831890944,
          -0.26672803566184783,
          -0.6796614693108134,
          -0.6695265465361221,
          -0.03381244274676264,
          -0.4022576201789111,
          -1.0084247617784605,
          -0.503218487402662,
          -0.21118014066262655,
          -0.2916220248087795,
          0.019071176491270794,
          -0.7515687251694851,
          -0.34701652159856367
         ],
         "z": [
          -0.4061295530769633,
          -0.01712990920512527,
          -0.33826072771795906,
          -0.1770828563933648,
          -0.30654446481443187,
          0.04118876935364432,
          0.17002253374149984,
          0.015672194238160204,
          -0.41481456614870404,
          0.28343724625412575,
          -0.26648995382244983,
          0.13232789047497379,
          -0.691941578318965,
          -0.062157427613538846,
          0.09365863819195044,
          -0.3132294005685773,
          0.328384297069348,
          -0.2702806708356938,
          -0.49734854117770466,
          -0.23296355648252287,
          0.45984422657275353,
          -0.22747218032088332,
          -0.34751321258425033,
          -0.23161141855267017,
          -0.3203723328292698,
          -0.3147714813796257,
          -0.5212449247379848,
          -0.16463849085222862,
          0.03634357634449071,
          -0.31533719693892015,
          -0.241758044842268,
          -0.3039165434636248,
          -0.17497330378776524,
          0.015480495121708305,
          0.444583753034871,
          0.38945871138620264,
          -0.236566086849828,
          -0.6128710500606733,
          0.18956248472924198,
          -0.05779923880574415,
          -0.024053890889809377,
          -0.009768026368424802,
          -0.22736270503287936,
          -0.10206934253841166,
          0.017889465896507535,
          0.0838090732225157,
          0.07907335550136593,
          -0.2041728768637463,
          -0.00773658450698056,
          0.01217913915885931
         ]
        },
        {
         "hovertemplate": "Species=Iris-virginica<br>D1=%{x}<br>D2=%{y}<br>D3=%{z}<extra></extra>",
         "legendgroup": "Iris-virginica",
         "marker": {
          "color": "#00cc96",
          "symbol": "circle"
         },
         "mode": "markers",
         "name": "Iris-virginica",
         "scene": "scene",
         "showlegend": true,
         "type": "scatter3d",
         "x": [
          2.531726980439559,
          1.4140722251737574,
          2.6164846082840443,
          1.9708149459064823,
          2.349757983950943,
          3.3968799206781397,
          0.5193832450849356,
          2.9320050969913023,
          2.3196727938740542,
          2.918134233644252,
          1.6619349470194873,
          1.8023404526607338,
          2.165378862953398,
          1.3445942175098247,
          1.5852672993086439,
          1.9047435782139126,
          1.9492487818644983,
          3.488765379656387,
          3.7946868612099713,
          1.2983298245678163,
          2.428167259020849,
          1.1980973722749628,
          3.499265484298958,
          1.387668250181556,
          2.2758536493056947,
          2.6141938306983348,
          1.2576251829251366,
          1.290669647737602,
          2.1228539805083138,
          2.3875644023690286,
          2.840960925285385,
          3.232342898295876,
          2.158738373133135,
          1.4431026043759752,
          1.7796401068985706,
          3.0765216210206634,
          2.1449868567093047,
          1.9048629251371323,
          1.1688534694704036,
          2.1076537311732695,
          2.314303394629549,
          1.922450884835753,
          1.4140722251737574,
          2.5633227123408098,
          2.419391219804981,
          1.9440170488777377,
          1.525663631313873,
          1.7640459355269833,
          1.9016290752882328,
          1.389666133319417
         ],
         "y": [
          -0.01184223664030031,
          -0.5749250559123045,
          0.3419352869872947,
          -0.18112569470491358,
          -0.04188254965484173,
          0.5471680462301526,
          -1.1913516890506526,
          0.35237700618085965,
          -0.24554817060691,
          0.7803806293720319,
          0.2420384010375223,
          -0.21615460662653618,
          0.21528028337300711,
          -0.7764154251768246,
          -0.5393070538471718,
          0.11881899098269852,
          0.04073025942776785,
          1.1715445442635637,
          0.2532655709725345,
          -0.7610139365215074,
          0.3767819712541524,
          -0.605578961764594,
          0.4567734669640743,
          -0.2040309865701546,
          0.333386525756642,
          0.5583669502788221,
          -0.17913699742322264,
          -0.11642525182937241,
          -0.21085488454948972,
          0.46251925072626027,
          0.3727425910490212,
          1.3705240359763333,
          -0.21832553156299306,
          -0.14380128908272605,
          -0.5014647947060153,
          0.6857644422460564,
          0.13890660887731457,
          0.04804750823183461,
          -0.16450249981508977,
          0.3714822491771057,
          0.18260885079369857,
          0.4092711761786955,
          -0.5749250559123045,
          0.27597450223983805,
          0.3035039377026287,
          0.18741522204601388,
          -0.3750208481918226,
          0.07851918642935747,
          0.11587674824796565,
          -0.282886709172269
         ],
         "z": [
          0.7584586515284957,
          0.29639822430521323,
          -0.11214137055436675,
          0.1065391486498459,
          0.2841106808661675,
          -0.35187315762730165,
          0.5466855311249491,
          -0.4236912783368971,
          -0.3499221833590495,
          0.4217389336137675,
          0.2428152634675933,
          -0.037695328493964675,
          0.03314818319913325,
          0.28286801822431856,
          0.630570488462326,
          0.4801380797657288,
          0.0427290939294366,
          0.12932008336177542,
          -0.516970715993895,
          -0.3448870474686999,
          0.21864907004670528,
          0.5126407650398149,
          -0.5769101867216485,
          -0.06351132177864807,
          0.284678152660718,
          -0.20842334661879347,
          0.04697780744922717,
          0.23161356056830618,
          0.15351588509125524,
          -0.45202396144912765,
          -0.5010315391382016,
          -0.11844877739515784,
          0.20842197616391583,
          -0.1540829711054272,
          -0.17581118605670346,
          -0.33642274120822385,
          0.7341847390548604,
          0.16047063070600842,
          0.2824608810023713,
          0.027437856461485347,
          0.32286040074238276,
          0.11549281596071752,
          0.29639822430521323,
          0.29125361312685977,
          0.50430251695136,
          0.1793028706811269,
          -0.12063644074491209,
          0.13078405342866892,
          0.7228735608675689,
          0.36231783163122155
         ]
        }
       ],
       "layout": {
        "legend": {
         "title": {
          "text": "Species"
         },
         "tracegroupgap": 0
        },
        "margin": {
         "t": 60
        },
        "scene": {
         "domain": {
          "x": [
           0,
           1
          ],
          "y": [
           0,
           1
          ]
         },
         "xaxis": {
          "title": {
           "text": "D1"
          }
         },
         "yaxis": {
          "title": {
           "text": "D2"
          }
         },
         "zaxis": {
          "title": {
           "text": "D3"
          }
         }
        },
        "template": {
         "data": {
          "bar": [
           {
            "error_x": {
             "color": "#2a3f5f"
            },
            "error_y": {
             "color": "#2a3f5f"
            },
            "marker": {
             "line": {
              "color": "#E5ECF6",
              "width": 0.5
             }
            },
            "type": "bar"
           }
          ],
          "barpolar": [
           {
            "marker": {
             "line": {
              "color": "#E5ECF6",
              "width": 0.5
             }
            },
            "type": "barpolar"
           }
          ],
          "carpet": [
           {
            "aaxis": {
             "endlinecolor": "#2a3f5f",
             "gridcolor": "white",
             "linecolor": "white",
             "minorgridcolor": "white",
             "startlinecolor": "#2a3f5f"
            },
            "baxis": {
             "endlinecolor": "#2a3f5f",
             "gridcolor": "white",
             "linecolor": "white",
             "minorgridcolor": "white",
             "startlinecolor": "#2a3f5f"
            },
            "type": "carpet"
           }
          ],
          "choropleth": [
           {
            "colorbar": {
             "outlinewidth": 0,
             "ticks": ""
            },
            "type": "choropleth"
           }
          ],
          "contour": [
           {
            "colorbar": {
             "outlinewidth": 0,
             "ticks": ""
            },
            "colorscale": [
             [
              0,
              "#0d0887"
             ],
             [
              0.1111111111111111,
              "#46039f"
             ],
             [
              0.2222222222222222,
              "#7201a8"
             ],
             [
              0.3333333333333333,
              "#9c179e"
             ],
             [
              0.4444444444444444,
              "#bd3786"
             ],
             [
              0.5555555555555556,
              "#d8576b"
             ],
             [
              0.6666666666666666,
              "#ed7953"
             ],
             [
              0.7777777777777778,
              "#fb9f3a"
             ],
             [
              0.8888888888888888,
              "#fdca26"
             ],
             [
              1,
              "#f0f921"
             ]
            ],
            "type": "contour"
           }
          ],
          "contourcarpet": [
           {
            "colorbar": {
             "outlinewidth": 0,
             "ticks": ""
            },
            "type": "contourcarpet"
           }
          ],
          "heatmap": [
           {
            "colorbar": {
             "outlinewidth": 0,
             "ticks": ""
            },
            "colorscale": [
             [
              0,
              "#0d0887"
             ],
             [
              0.1111111111111111,
              "#46039f"
             ],
             [
              0.2222222222222222,
              "#7201a8"
             ],
             [
              0.3333333333333333,
              "#9c179e"
             ],
             [
              0.4444444444444444,
              "#bd3786"
             ],
             [
              0.5555555555555556,
              "#d8576b"
             ],
             [
              0.6666666666666666,
              "#ed7953"
             ],
             [
              0.7777777777777778,
              "#fb9f3a"
             ],
             [
              0.8888888888888888,
              "#fdca26"
             ],
             [
              1,
              "#f0f921"
             ]
            ],
            "type": "heatmap"
           }
          ],
          "heatmapgl": [
           {
            "colorbar": {
             "outlinewidth": 0,
             "ticks": ""
            },
            "colorscale": [
             [
              0,
              "#0d0887"
             ],
             [
              0.1111111111111111,
              "#46039f"
             ],
             [
              0.2222222222222222,
              "#7201a8"
             ],
             [
              0.3333333333333333,
              "#9c179e"
             ],
             [
              0.4444444444444444,
              "#bd3786"
             ],
             [
              0.5555555555555556,
              "#d8576b"
             ],
             [
              0.6666666666666666,
              "#ed7953"
             ],
             [
              0.7777777777777778,
              "#fb9f3a"
             ],
             [
              0.8888888888888888,
              "#fdca26"
             ],
             [
              1,
              "#f0f921"
             ]
            ],
            "type": "heatmapgl"
           }
          ],
          "histogram": [
           {
            "marker": {
             "colorbar": {
              "outlinewidth": 0,
              "ticks": ""
             }
            },
            "type": "histogram"
           }
          ],
          "histogram2d": [
           {
            "colorbar": {
             "outlinewidth": 0,
             "ticks": ""
            },
            "colorscale": [
             [
              0,
              "#0d0887"
             ],
             [
              0.1111111111111111,
              "#46039f"
             ],
             [
              0.2222222222222222,
              "#7201a8"
             ],
             [
              0.3333333333333333,
              "#9c179e"
             ],
             [
              0.4444444444444444,
              "#bd3786"
             ],
             [
              0.5555555555555556,
              "#d8576b"
             ],
             [
              0.6666666666666666,
              "#ed7953"
             ],
             [
              0.7777777777777778,
              "#fb9f3a"
             ],
             [
              0.8888888888888888,
              "#fdca26"
             ],
             [
              1,
              "#f0f921"
             ]
            ],
            "type": "histogram2d"
           }
          ],
          "histogram2dcontour": [
           {
            "colorbar": {
             "outlinewidth": 0,
             "ticks": ""
            },
            "colorscale": [
             [
              0,
              "#0d0887"
             ],
             [
              0.1111111111111111,
              "#46039f"
             ],
             [
              0.2222222222222222,
              "#7201a8"
             ],
             [
              0.3333333333333333,
              "#9c179e"
             ],
             [
              0.4444444444444444,
              "#bd3786"
             ],
             [
              0.5555555555555556,
              "#d8576b"
             ],
             [
              0.6666666666666666,
              "#ed7953"
             ],
             [
              0.7777777777777778,
              "#fb9f3a"
             ],
             [
              0.8888888888888888,
              "#fdca26"
             ],
             [
              1,
              "#f0f921"
             ]
            ],
            "type": "histogram2dcontour"
           }
          ],
          "mesh3d": [
           {
            "colorbar": {
             "outlinewidth": 0,
             "ticks": ""
            },
            "type": "mesh3d"
           }
          ],
          "parcoords": [
           {
            "line": {
             "colorbar": {
              "outlinewidth": 0,
              "ticks": ""
             }
            },
            "type": "parcoords"
           }
          ],
          "pie": [
           {
            "automargin": true,
            "type": "pie"
           }
          ],
          "scatter": [
           {
            "marker": {
             "colorbar": {
              "outlinewidth": 0,
              "ticks": ""
             }
            },
            "type": "scatter"
           }
          ],
          "scatter3d": [
           {
            "line": {
             "colorbar": {
              "outlinewidth": 0,
              "ticks": ""
             }
            },
            "marker": {
             "colorbar": {
              "outlinewidth": 0,
              "ticks": ""
             }
            },
            "type": "scatter3d"
           }
          ],
          "scattercarpet": [
           {
            "marker": {
             "colorbar": {
              "outlinewidth": 0,
              "ticks": ""
             }
            },
            "type": "scattercarpet"
           }
          ],
          "scattergeo": [
           {
            "marker": {
             "colorbar": {
              "outlinewidth": 0,
              "ticks": ""
             }
            },
            "type": "scattergeo"
           }
          ],
          "scattergl": [
           {
            "marker": {
             "colorbar": {
              "outlinewidth": 0,
              "ticks": ""
             }
            },
            "type": "scattergl"
           }
          ],
          "scattermapbox": [
           {
            "marker": {
             "colorbar": {
              "outlinewidth": 0,
              "ticks": ""
             }
            },
            "type": "scattermapbox"
           }
          ],
          "scatterpolar": [
           {
            "marker": {
             "colorbar": {
              "outlinewidth": 0,
              "ticks": ""
             }
            },
            "type": "scatterpolar"
           }
          ],
          "scatterpolargl": [
           {
            "marker": {
             "colorbar": {
              "outlinewidth": 0,
              "ticks": ""
             }
            },
            "type": "scatterpolargl"
           }
          ],
          "scatterternary": [
           {
            "marker": {
             "colorbar": {
              "outlinewidth": 0,
              "ticks": ""
             }
            },
            "type": "scatterternary"
           }
          ],
          "surface": [
           {
            "colorbar": {
             "outlinewidth": 0,
             "ticks": ""
            },
            "colorscale": [
             [
              0,
              "#0d0887"
             ],
             [
              0.1111111111111111,
              "#46039f"
             ],
             [
              0.2222222222222222,
              "#7201a8"
             ],
             [
              0.3333333333333333,
              "#9c179e"
             ],
             [
              0.4444444444444444,
              "#bd3786"
             ],
             [
              0.5555555555555556,
              "#d8576b"
             ],
             [
              0.6666666666666666,
              "#ed7953"
             ],
             [
              0.7777777777777778,
              "#fb9f3a"
             ],
             [
              0.8888888888888888,
              "#fdca26"
             ],
             [
              1,
              "#f0f921"
             ]
            ],
            "type": "surface"
           }
          ],
          "table": [
           {
            "cells": {
             "fill": {
              "color": "#EBF0F8"
             },
             "line": {
              "color": "white"
             }
            },
            "header": {
             "fill": {
              "color": "#C8D4E3"
             },
             "line": {
              "color": "white"
             }
            },
            "type": "table"
           }
          ]
         },
         "layout": {
          "annotationdefaults": {
           "arrowcolor": "#2a3f5f",
           "arrowhead": 0,
           "arrowwidth": 1
          },
          "coloraxis": {
           "colorbar": {
            "outlinewidth": 0,
            "ticks": ""
           }
          },
          "colorscale": {
           "diverging": [
            [
             0,
             "#8e0152"
            ],
            [
             0.1,
             "#c51b7d"
            ],
            [
             0.2,
             "#de77ae"
            ],
            [
             0.3,
             "#f1b6da"
            ],
            [
             0.4,
             "#fde0ef"
            ],
            [
             0.5,
             "#f7f7f7"
            ],
            [
             0.6,
             "#e6f5d0"
            ],
            [
             0.7,
             "#b8e186"
            ],
            [
             0.8,
             "#7fbc41"
            ],
            [
             0.9,
             "#4d9221"
            ],
            [
             1,
             "#276419"
            ]
           ],
           "sequential": [
            [
             0,
             "#0d0887"
            ],
            [
             0.1111111111111111,
             "#46039f"
            ],
            [
             0.2222222222222222,
             "#7201a8"
            ],
            [
             0.3333333333333333,
             "#9c179e"
            ],
            [
             0.4444444444444444,
             "#bd3786"
            ],
            [
             0.5555555555555556,
             "#d8576b"
            ],
            [
             0.6666666666666666,
             "#ed7953"
            ],
            [
             0.7777777777777778,
             "#fb9f3a"
            ],
            [
             0.8888888888888888,
             "#fdca26"
            ],
            [
             1,
             "#f0f921"
            ]
           ],
           "sequentialminus": [
            [
             0,
             "#0d0887"
            ],
            [
             0.1111111111111111,
             "#46039f"
            ],
            [
             0.2222222222222222,
             "#7201a8"
            ],
            [
             0.3333333333333333,
             "#9c179e"
            ],
            [
             0.4444444444444444,
             "#bd3786"
            ],
            [
             0.5555555555555556,
             "#d8576b"
            ],
            [
             0.6666666666666666,
             "#ed7953"
            ],
            [
             0.7777777777777778,
             "#fb9f3a"
            ],
            [
             0.8888888888888888,
             "#fdca26"
            ],
            [
             1,
             "#f0f921"
            ]
           ]
          },
          "colorway": [
           "#636efa",
           "#EF553B",
           "#00cc96",
           "#ab63fa",
           "#FFA15A",
           "#19d3f3",
           "#FF6692",
           "#B6E880",
           "#FF97FF",
           "#FECB52"
          ],
          "font": {
           "color": "#2a3f5f"
          },
          "geo": {
           "bgcolor": "white",
           "lakecolor": "white",
           "landcolor": "#E5ECF6",
           "showlakes": true,
           "showland": true,
           "subunitcolor": "white"
          },
          "hoverlabel": {
           "align": "left"
          },
          "hovermode": "closest",
          "mapbox": {
           "style": "light"
          },
          "paper_bgcolor": "white",
          "plot_bgcolor": "#E5ECF6",
          "polar": {
           "angularaxis": {
            "gridcolor": "white",
            "linecolor": "white",
            "ticks": ""
           },
           "bgcolor": "#E5ECF6",
           "radialaxis": {
            "gridcolor": "white",
            "linecolor": "white",
            "ticks": ""
           }
          },
          "scene": {
           "xaxis": {
            "backgroundcolor": "#E5ECF6",
            "gridcolor": "white",
            "gridwidth": 2,
            "linecolor": "white",
            "showbackground": true,
            "ticks": "",
            "zerolinecolor": "white"
           },
           "yaxis": {
            "backgroundcolor": "#E5ECF6",
            "gridcolor": "white",
            "gridwidth": 2,
            "linecolor": "white",
            "showbackground": true,
            "ticks": "",
            "zerolinecolor": "white"
           },
           "zaxis": {
            "backgroundcolor": "#E5ECF6",
            "gridcolor": "white",
            "gridwidth": 2,
            "linecolor": "white",
            "showbackground": true,
            "ticks": "",
            "zerolinecolor": "white"
           }
          },
          "shapedefaults": {
           "line": {
            "color": "#2a3f5f"
           }
          },
          "ternary": {
           "aaxis": {
            "gridcolor": "white",
            "linecolor": "white",
            "ticks": ""
           },
           "baxis": {
            "gridcolor": "white",
            "linecolor": "white",
            "ticks": ""
           },
           "bgcolor": "#E5ECF6",
           "caxis": {
            "gridcolor": "white",
            "linecolor": "white",
            "ticks": ""
           }
          },
          "title": {
           "x": 0.05
          },
          "xaxis": {
           "automargin": true,
           "gridcolor": "white",
           "linecolor": "white",
           "ticks": "",
           "title": {
            "standoff": 15
           },
           "zerolinecolor": "white",
           "zerolinewidth": 2
          },
          "yaxis": {
           "automargin": true,
           "gridcolor": "white",
           "linecolor": "white",
           "ticks": "",
           "title": {
            "standoff": 15
           },
           "zerolinecolor": "white",
           "zerolinewidth": 2
          }
         }
        }
       }
      },
      "text/html": [
       "<div>\n",
       "        \n",
       "        \n",
       "            <div id=\"9e6d5a60-59a4-40bc-9a1e-0af893e78cca\" class=\"plotly-graph-div\" style=\"height:525px; width:100%;\"></div>\n",
       "            <script type=\"text/javascript\">\n",
       "                require([\"plotly\"], function(Plotly) {\n",
       "                    window.PLOTLYENV=window.PLOTLYENV || {};\n",
       "                    \n",
       "                if (document.getElementById(\"9e6d5a60-59a4-40bc-9a1e-0af893e78cca\")) {\n",
       "                    Plotly.newPlot(\n",
       "                        '9e6d5a60-59a4-40bc-9a1e-0af893e78cca',\n",
       "                        [{\"hovertemplate\": \"Species=Iris-setosa<br>D1=%{x}<br>D2=%{y}<br>D3=%{z}<extra></extra>\", \"legendgroup\": \"Iris-setosa\", \"marker\": {\"color\": \"#636efa\", \"symbol\": \"circle\"}, \"mode\": \"markers\", \"name\": \"Iris-setosa\", \"scene\": \"scene\", \"showlegend\": true, \"type\": \"scatter3d\", \"x\": [-2.684207125103951, -2.7153906156341314, -2.8898195396179154, -2.746437197308735, -2.7285929818313153, -2.279897361009598, -2.8208906821806305, -2.6264819933238197, -2.8879585653356354, -2.6738446867191215, -2.5065267893389036, -2.6131427182710567, -2.7874339759970983, -3.2252004462749815, -2.6435432169411457, -2.383869323799375, -2.6225262031258088, -2.6483227324791265, -2.1990779614307634, -2.5873461889177385, -2.310531701313134, -2.5432349073036953, -3.2158576949001056, -2.303128537663883, -2.3561710866838985, -2.507917226837881, -2.4690559975451234, -2.5623909468367505, -2.6398212683765823, -2.6328479080307585, -2.588462051303392, -2.410077337121596, -2.647636673396901, -2.5971594770759183, -2.6738446867191215, -2.8669998469325346, -2.6252284646804207, -2.6738446867191215, -2.981842664853909, -2.590323025585674, -2.770138910746325, -2.852211081566393, -2.9982964428323515, -2.4055141012847017, -2.2088329541767058, -2.715665190747455, -2.5375733710135076, -2.840321296827009, -2.5426857570770487, -2.7039123148636506], \"y\": [0.3266073147643887, -0.16955684755602615, -0.13734560960502806, -0.3111243157519917, 0.33392456356845446, 0.7477827132251331, -0.08210451102468097, 0.17040534896028964, -0.5707980263315915, -0.10669170375273856, 0.6519350136725716, 0.021520631960257813, -0.22774018887110628, -0.5032799094854257, 1.1861948994134486, 1.3447543445598613, 0.8180896745965947, 0.3191366677508844, 0.8792440880917363, 0.5204736388059676, 0.39786782158889167, 0.440031754659815, 0.1416155716255835, 0.10552267842998217, -0.03120958906833846, -0.13905633991317407, 0.13788731459041756, 0.37468456275010587, 0.31929006596032167, -0.19007583063362413, -0.19739307943769088, 0.4180800082476159, 0.8199826325595063, 1.1000219280072678, -0.10669170375273856, 0.07719309572358705, 0.606800008421586, -0.10669170375273856, -0.48025004885607653, 0.23605933728887268, 0.27105941976516684, -0.9328653674695442, -0.3343075745907772, 0.1959172576960606, 0.44269603042100264, -0.24268148289811292, 0.5103675454766056, -0.2205763382764766, 0.5862810253439881, 0.1150108521705055], \"z\": [-0.0215118370019632, -0.20352142500549122, 0.024709240998957247, 0.037671975285301064, 0.09622969977460934, 0.17432561901640292, 0.2642510851906961, -0.01580151026431512, 0.027335406114507254, -0.1915332997356448, -0.06927499581393107, 0.10765035324990467, -0.20032778809538937, 0.06841362917233035, -0.14450570400963547, 0.28373066393977703, 0.14531598882161798, 0.0333942540706981, -0.11452146479835289, 0.2195720880008251, -0.23369560709796958, 0.2148363702796755, 0.29961898151087135, 0.04568004127448713, 0.12940757589599336, -0.2471163378908599, 0.10126307942970222, -0.07235915743602825, -0.13925337377853483, 0.04646646364504577, -0.07127507313152606, -0.13838824005004097, 0.2305856042541727, 0.16358191262366267, -0.1915332997356448, -0.1568423504980242, -0.2611631564817056, -0.1915332997356448, 0.07972480735962137, -0.07390123824707656, 0.08424157450476336, -0.34096149110715174, 0.19900842494724205, 0.2707170703688337, 0.3034878092682705, -0.09051560595006831, 0.1719184044768607, 0.09006137653041518, -0.011175267831169088, -0.08269572660682169]}, {\"hovertemplate\": \"Species=Iris-versicolor<br>D1=%{x}<br>D2=%{y}<br>D3=%{z}<extra></extra>\", \"legendgroup\": \"Iris-versicolor\", \"marker\": {\"color\": \"#EF553B\", \"symbol\": \"circle\"}, \"mode\": \"markers\", \"name\": \"Iris-versicolor\", \"scene\": \"scene\", \"showlegend\": true, \"type\": \"scatter3d\", \"x\": [1.284794587845072, 0.9324107529829181, 1.4640613227790762, 0.18096720634769878, 1.0871344872070012, 0.6404367495231456, 1.0952237099384787, -0.7514671406482274, 1.0432977807062815, -0.010190070727853457, -0.5110861958950911, 0.5110980606834775, 0.26233575615318055, 0.9840445451694313, -0.17486400196569613, 0.9275729420327005, 0.6595927890562006, 0.2345405862598358, 0.9423617073988422, 0.04324640032870467, 1.116240723753816, 0.3567865678304616, 1.2964688502855342, 0.9205026489090097, 0.7140082136428336, 0.8996408632837763, 1.3310414188547206, 1.5573962720707029, 0.8124555489980023, -0.30733475566340424, -0.07034288894927154, -0.19188449210314568, 0.13499495045137347, 1.378736982775583, 0.5872748535799108, 0.8072054966767167, 1.2204289662446803, 0.8128677903690701, 0.24519516169034603, 0.16451342836925573, 0.46303098887142424, 0.8901604456511567, 0.22887904996964778, -0.707081283920861, 0.35553303918706347, 0.33112694733272285, 0.37523822894676584, 0.6416902781665434, -0.9084633331234955, 0.29780790740693397], \"y\": [0.6854391861329197, 0.31919808983364856, 0.5041898329724529, -0.8256039435761129, 0.07539038928876747, -0.41732348297002547, 0.28389121093848024, -1.0011075129743938, 0.22895690877700672, -0.7205748667019012, -1.2624919538621397, -0.10228410504597014, -0.5478932980253364, -0.12436042022227783, -0.2518155710801704, 0.46823620504311686, -0.3519762910603163, -0.33192182936212017, -0.5418222581500136, -0.5814894466123582, -0.08421401387837342, -0.06682382794136613, -0.3275615197949439, -0.18239036332792088, 0.1503791531484372, 0.32961097958188385, 0.24466952060228914, 0.2673925848127647, -0.16233157487863317, -0.3650866127661601, -0.7025379317307257, -0.677490544374357, -0.311709642703396, -0.4212051382146281, -0.48328426771748223, 0.19505396377111137, 0.4080353370010173, -0.37067899831890944, -0.26672803566184783, -0.6796614693108134, -0.6695265465361221, -0.03381244274676264, -0.4022576201789111, -1.0084247617784605, -0.503218487402662, -0.21118014066262655, -0.2916220248087795, 0.019071176491270794, -0.7515687251694851, -0.34701652159856367], \"z\": [-0.4061295530769633, -0.01712990920512527, -0.33826072771795906, -0.1770828563933648, -0.30654446481443187, 0.04118876935364432, 0.17002253374149984, 0.015672194238160204, -0.41481456614870404, 0.28343724625412575, -0.26648995382244983, 0.13232789047497379, -0.691941578318965, -0.062157427613538846, 0.09365863819195044, -0.3132294005685773, 0.328384297069348, -0.2702806708356938, -0.49734854117770466, -0.23296355648252287, 0.45984422657275353, -0.22747218032088332, -0.34751321258425033, -0.23161141855267017, -0.3203723328292698, -0.3147714813796257, -0.5212449247379848, -0.16463849085222862, 0.03634357634449071, -0.31533719693892015, -0.241758044842268, -0.3039165434636248, -0.17497330378776524, 0.015480495121708305, 0.444583753034871, 0.38945871138620264, -0.236566086849828, -0.6128710500606733, 0.18956248472924198, -0.05779923880574415, -0.024053890889809377, -0.009768026368424802, -0.22736270503287936, -0.10206934253841166, 0.017889465896507535, 0.0838090732225157, 0.07907335550136593, -0.2041728768637463, -0.00773658450698056, 0.01217913915885931]}, {\"hovertemplate\": \"Species=Iris-virginica<br>D1=%{x}<br>D2=%{y}<br>D3=%{z}<extra></extra>\", \"legendgroup\": \"Iris-virginica\", \"marker\": {\"color\": \"#00cc96\", \"symbol\": \"circle\"}, \"mode\": \"markers\", \"name\": \"Iris-virginica\", \"scene\": \"scene\", \"showlegend\": true, \"type\": \"scatter3d\", \"x\": [2.531726980439559, 1.4140722251737574, 2.6164846082840443, 1.9708149459064823, 2.349757983950943, 3.3968799206781397, 0.5193832450849356, 2.9320050969913023, 2.3196727938740542, 2.918134233644252, 1.6619349470194873, 1.8023404526607338, 2.165378862953398, 1.3445942175098247, 1.5852672993086439, 1.9047435782139126, 1.9492487818644983, 3.488765379656387, 3.7946868612099713, 1.2983298245678163, 2.428167259020849, 1.1980973722749628, 3.499265484298958, 1.387668250181556, 2.2758536493056947, 2.6141938306983348, 1.2576251829251366, 1.290669647737602, 2.1228539805083138, 2.3875644023690286, 2.840960925285385, 3.232342898295876, 2.158738373133135, 1.4431026043759752, 1.7796401068985706, 3.0765216210206634, 2.1449868567093047, 1.9048629251371323, 1.1688534694704036, 2.1076537311732695, 2.314303394629549, 1.922450884835753, 1.4140722251737574, 2.5633227123408098, 2.419391219804981, 1.9440170488777377, 1.525663631313873, 1.7640459355269833, 1.9016290752882328, 1.389666133319417], \"y\": [-0.01184223664030031, -0.5749250559123045, 0.3419352869872947, -0.18112569470491358, -0.04188254965484173, 0.5471680462301526, -1.1913516890506526, 0.35237700618085965, -0.24554817060691, 0.7803806293720319, 0.2420384010375223, -0.21615460662653618, 0.21528028337300711, -0.7764154251768246, -0.5393070538471718, 0.11881899098269852, 0.04073025942776785, 1.1715445442635637, 0.2532655709725345, -0.7610139365215074, 0.3767819712541524, -0.605578961764594, 0.4567734669640743, -0.2040309865701546, 0.333386525756642, 0.5583669502788221, -0.17913699742322264, -0.11642525182937241, -0.21085488454948972, 0.46251925072626027, 0.3727425910490212, 1.3705240359763333, -0.21832553156299306, -0.14380128908272605, -0.5014647947060153, 0.6857644422460564, 0.13890660887731457, 0.04804750823183461, -0.16450249981508977, 0.3714822491771057, 0.18260885079369857, 0.4092711761786955, -0.5749250559123045, 0.27597450223983805, 0.3035039377026287, 0.18741522204601388, -0.3750208481918226, 0.07851918642935747, 0.11587674824796565, -0.282886709172269], \"z\": [0.7584586515284957, 0.29639822430521323, -0.11214137055436675, 0.1065391486498459, 0.2841106808661675, -0.35187315762730165, 0.5466855311249491, -0.4236912783368971, -0.3499221833590495, 0.4217389336137675, 0.2428152634675933, -0.037695328493964675, 0.03314818319913325, 0.28286801822431856, 0.630570488462326, 0.4801380797657288, 0.0427290939294366, 0.12932008336177542, -0.516970715993895, -0.3448870474686999, 0.21864907004670528, 0.5126407650398149, -0.5769101867216485, -0.06351132177864807, 0.284678152660718, -0.20842334661879347, 0.04697780744922717, 0.23161356056830618, 0.15351588509125524, -0.45202396144912765, -0.5010315391382016, -0.11844877739515784, 0.20842197616391583, -0.1540829711054272, -0.17581118605670346, -0.33642274120822385, 0.7341847390548604, 0.16047063070600842, 0.2824608810023713, 0.027437856461485347, 0.32286040074238276, 0.11549281596071752, 0.29639822430521323, 0.29125361312685977, 0.50430251695136, 0.1793028706811269, -0.12063644074491209, 0.13078405342866892, 0.7228735608675689, 0.36231783163122155]}],\n",
       "                        {\"legend\": {\"title\": {\"text\": \"Species\"}, \"tracegroupgap\": 0}, \"margin\": {\"t\": 60}, \"scene\": {\"domain\": {\"x\": [0.0, 1.0], \"y\": [0.0, 1.0]}, \"xaxis\": {\"title\": {\"text\": \"D1\"}}, \"yaxis\": {\"title\": {\"text\": \"D2\"}}, \"zaxis\": {\"title\": {\"text\": \"D3\"}}}, \"template\": {\"data\": {\"bar\": [{\"error_x\": {\"color\": \"#2a3f5f\"}, \"error_y\": {\"color\": \"#2a3f5f\"}, \"marker\": {\"line\": {\"color\": \"#E5ECF6\", \"width\": 0.5}}, \"type\": \"bar\"}], \"barpolar\": [{\"marker\": {\"line\": {\"color\": \"#E5ECF6\", \"width\": 0.5}}, \"type\": \"barpolar\"}], \"carpet\": [{\"aaxis\": {\"endlinecolor\": \"#2a3f5f\", \"gridcolor\": \"white\", \"linecolor\": \"white\", \"minorgridcolor\": \"white\", \"startlinecolor\": \"#2a3f5f\"}, \"baxis\": {\"endlinecolor\": \"#2a3f5f\", \"gridcolor\": \"white\", \"linecolor\": \"white\", \"minorgridcolor\": \"white\", \"startlinecolor\": \"#2a3f5f\"}, \"type\": \"carpet\"}], \"choropleth\": [{\"colorbar\": {\"outlinewidth\": 0, \"ticks\": \"\"}, \"type\": \"choropleth\"}], \"contour\": [{\"colorbar\": {\"outlinewidth\": 0, \"ticks\": \"\"}, \"colorscale\": [[0.0, \"#0d0887\"], [0.1111111111111111, \"#46039f\"], [0.2222222222222222, \"#7201a8\"], [0.3333333333333333, \"#9c179e\"], [0.4444444444444444, \"#bd3786\"], [0.5555555555555556, \"#d8576b\"], [0.6666666666666666, \"#ed7953\"], [0.7777777777777778, \"#fb9f3a\"], [0.8888888888888888, \"#fdca26\"], [1.0, \"#f0f921\"]], \"type\": \"contour\"}], \"contourcarpet\": [{\"colorbar\": {\"outlinewidth\": 0, \"ticks\": \"\"}, \"type\": \"contourcarpet\"}], \"heatmap\": [{\"colorbar\": {\"outlinewidth\": 0, \"ticks\": \"\"}, \"colorscale\": [[0.0, \"#0d0887\"], [0.1111111111111111, \"#46039f\"], [0.2222222222222222, \"#7201a8\"], [0.3333333333333333, \"#9c179e\"], [0.4444444444444444, \"#bd3786\"], [0.5555555555555556, \"#d8576b\"], [0.6666666666666666, \"#ed7953\"], [0.7777777777777778, \"#fb9f3a\"], [0.8888888888888888, \"#fdca26\"], [1.0, \"#f0f921\"]], \"type\": \"heatmap\"}], \"heatmapgl\": [{\"colorbar\": {\"outlinewidth\": 0, \"ticks\": \"\"}, \"colorscale\": [[0.0, \"#0d0887\"], [0.1111111111111111, \"#46039f\"], [0.2222222222222222, \"#7201a8\"], [0.3333333333333333, \"#9c179e\"], [0.4444444444444444, \"#bd3786\"], [0.5555555555555556, \"#d8576b\"], [0.6666666666666666, \"#ed7953\"], [0.7777777777777778, \"#fb9f3a\"], [0.8888888888888888, \"#fdca26\"], [1.0, \"#f0f921\"]], \"type\": \"heatmapgl\"}], \"histogram\": [{\"marker\": {\"colorbar\": {\"outlinewidth\": 0, \"ticks\": \"\"}}, \"type\": \"histogram\"}], \"histogram2d\": [{\"colorbar\": {\"outlinewidth\": 0, \"ticks\": \"\"}, \"colorscale\": [[0.0, \"#0d0887\"], [0.1111111111111111, \"#46039f\"], [0.2222222222222222, \"#7201a8\"], [0.3333333333333333, \"#9c179e\"], [0.4444444444444444, \"#bd3786\"], [0.5555555555555556, \"#d8576b\"], [0.6666666666666666, \"#ed7953\"], [0.7777777777777778, \"#fb9f3a\"], [0.8888888888888888, \"#fdca26\"], [1.0, \"#f0f921\"]], \"type\": \"histogram2d\"}], \"histogram2dcontour\": [{\"colorbar\": {\"outlinewidth\": 0, \"ticks\": \"\"}, \"colorscale\": [[0.0, \"#0d0887\"], [0.1111111111111111, \"#46039f\"], [0.2222222222222222, \"#7201a8\"], [0.3333333333333333, \"#9c179e\"], [0.4444444444444444, \"#bd3786\"], [0.5555555555555556, \"#d8576b\"], [0.6666666666666666, \"#ed7953\"], [0.7777777777777778, \"#fb9f3a\"], [0.8888888888888888, \"#fdca26\"], [1.0, \"#f0f921\"]], \"type\": \"histogram2dcontour\"}], \"mesh3d\": [{\"colorbar\": {\"outlinewidth\": 0, \"ticks\": \"\"}, \"type\": \"mesh3d\"}], \"parcoords\": [{\"line\": {\"colorbar\": {\"outlinewidth\": 0, \"ticks\": \"\"}}, \"type\": \"parcoords\"}], \"pie\": [{\"automargin\": true, \"type\": \"pie\"}], \"scatter\": [{\"marker\": {\"colorbar\": {\"outlinewidth\": 0, \"ticks\": \"\"}}, \"type\": \"scatter\"}], \"scatter3d\": [{\"line\": {\"colorbar\": {\"outlinewidth\": 0, \"ticks\": \"\"}}, \"marker\": {\"colorbar\": {\"outlinewidth\": 0, \"ticks\": \"\"}}, \"type\": \"scatter3d\"}], \"scattercarpet\": [{\"marker\": {\"colorbar\": {\"outlinewidth\": 0, \"ticks\": \"\"}}, \"type\": \"scattercarpet\"}], \"scattergeo\": [{\"marker\": {\"colorbar\": {\"outlinewidth\": 0, \"ticks\": \"\"}}, \"type\": \"scattergeo\"}], \"scattergl\": [{\"marker\": {\"colorbar\": {\"outlinewidth\": 0, \"ticks\": \"\"}}, \"type\": \"scattergl\"}], \"scattermapbox\": [{\"marker\": {\"colorbar\": {\"outlinewidth\": 0, \"ticks\": \"\"}}, \"type\": \"scattermapbox\"}], \"scatterpolar\": [{\"marker\": {\"colorbar\": {\"outlinewidth\": 0, \"ticks\": \"\"}}, \"type\": \"scatterpolar\"}], \"scatterpolargl\": [{\"marker\": {\"colorbar\": {\"outlinewidth\": 0, \"ticks\": \"\"}}, \"type\": \"scatterpolargl\"}], \"scatterternary\": [{\"marker\": {\"colorbar\": {\"outlinewidth\": 0, \"ticks\": \"\"}}, \"type\": \"scatterternary\"}], \"surface\": [{\"colorbar\": {\"outlinewidth\": 0, \"ticks\": \"\"}, \"colorscale\": [[0.0, \"#0d0887\"], [0.1111111111111111, \"#46039f\"], [0.2222222222222222, \"#7201a8\"], [0.3333333333333333, \"#9c179e\"], [0.4444444444444444, \"#bd3786\"], [0.5555555555555556, \"#d8576b\"], [0.6666666666666666, \"#ed7953\"], [0.7777777777777778, \"#fb9f3a\"], [0.8888888888888888, \"#fdca26\"], [1.0, \"#f0f921\"]], \"type\": \"surface\"}], \"table\": [{\"cells\": {\"fill\": {\"color\": \"#EBF0F8\"}, \"line\": {\"color\": \"white\"}}, \"header\": {\"fill\": {\"color\": \"#C8D4E3\"}, \"line\": {\"color\": \"white\"}}, \"type\": \"table\"}]}, \"layout\": {\"annotationdefaults\": {\"arrowcolor\": \"#2a3f5f\", \"arrowhead\": 0, \"arrowwidth\": 1}, \"coloraxis\": {\"colorbar\": {\"outlinewidth\": 0, \"ticks\": \"\"}}, \"colorscale\": {\"diverging\": [[0, \"#8e0152\"], [0.1, \"#c51b7d\"], [0.2, \"#de77ae\"], [0.3, \"#f1b6da\"], [0.4, \"#fde0ef\"], [0.5, \"#f7f7f7\"], [0.6, \"#e6f5d0\"], [0.7, \"#b8e186\"], [0.8, \"#7fbc41\"], [0.9, \"#4d9221\"], [1, \"#276419\"]], \"sequential\": [[0.0, \"#0d0887\"], [0.1111111111111111, \"#46039f\"], [0.2222222222222222, \"#7201a8\"], [0.3333333333333333, \"#9c179e\"], [0.4444444444444444, \"#bd3786\"], [0.5555555555555556, \"#d8576b\"], [0.6666666666666666, \"#ed7953\"], [0.7777777777777778, \"#fb9f3a\"], [0.8888888888888888, \"#fdca26\"], [1.0, \"#f0f921\"]], \"sequentialminus\": [[0.0, \"#0d0887\"], [0.1111111111111111, \"#46039f\"], [0.2222222222222222, \"#7201a8\"], [0.3333333333333333, \"#9c179e\"], [0.4444444444444444, \"#bd3786\"], [0.5555555555555556, \"#d8576b\"], [0.6666666666666666, \"#ed7953\"], [0.7777777777777778, \"#fb9f3a\"], [0.8888888888888888, \"#fdca26\"], [1.0, \"#f0f921\"]]}, \"colorway\": [\"#636efa\", \"#EF553B\", \"#00cc96\", \"#ab63fa\", \"#FFA15A\", \"#19d3f3\", \"#FF6692\", \"#B6E880\", \"#FF97FF\", \"#FECB52\"], \"font\": {\"color\": \"#2a3f5f\"}, \"geo\": {\"bgcolor\": \"white\", \"lakecolor\": \"white\", \"landcolor\": \"#E5ECF6\", \"showlakes\": true, \"showland\": true, \"subunitcolor\": \"white\"}, \"hoverlabel\": {\"align\": \"left\"}, \"hovermode\": \"closest\", \"mapbox\": {\"style\": \"light\"}, \"paper_bgcolor\": \"white\", \"plot_bgcolor\": \"#E5ECF6\", \"polar\": {\"angularaxis\": {\"gridcolor\": \"white\", \"linecolor\": \"white\", \"ticks\": \"\"}, \"bgcolor\": \"#E5ECF6\", \"radialaxis\": {\"gridcolor\": \"white\", \"linecolor\": \"white\", \"ticks\": \"\"}}, \"scene\": {\"xaxis\": {\"backgroundcolor\": \"#E5ECF6\", \"gridcolor\": \"white\", \"gridwidth\": 2, \"linecolor\": \"white\", \"showbackground\": true, \"ticks\": \"\", \"zerolinecolor\": \"white\"}, \"yaxis\": {\"backgroundcolor\": \"#E5ECF6\", \"gridcolor\": \"white\", \"gridwidth\": 2, \"linecolor\": \"white\", \"showbackground\": true, \"ticks\": \"\", \"zerolinecolor\": \"white\"}, \"zaxis\": {\"backgroundcolor\": \"#E5ECF6\", \"gridcolor\": \"white\", \"gridwidth\": 2, \"linecolor\": \"white\", \"showbackground\": true, \"ticks\": \"\", \"zerolinecolor\": \"white\"}}, \"shapedefaults\": {\"line\": {\"color\": \"#2a3f5f\"}}, \"ternary\": {\"aaxis\": {\"gridcolor\": \"white\", \"linecolor\": \"white\", \"ticks\": \"\"}, \"baxis\": {\"gridcolor\": \"white\", \"linecolor\": \"white\", \"ticks\": \"\"}, \"bgcolor\": \"#E5ECF6\", \"caxis\": {\"gridcolor\": \"white\", \"linecolor\": \"white\", \"ticks\": \"\"}}, \"title\": {\"x\": 0.05}, \"xaxis\": {\"automargin\": true, \"gridcolor\": \"white\", \"linecolor\": \"white\", \"ticks\": \"\", \"title\": {\"standoff\": 15}, \"zerolinecolor\": \"white\", \"zerolinewidth\": 2}, \"yaxis\": {\"automargin\": true, \"gridcolor\": \"white\", \"linecolor\": \"white\", \"ticks\": \"\", \"title\": {\"standoff\": 15}, \"zerolinecolor\": \"white\", \"zerolinewidth\": 2}}}},\n",
       "                        {\"responsive\": true}\n",
       "                    ).then(function(){\n",
       "                            \n",
       "var gd = document.getElementById('9e6d5a60-59a4-40bc-9a1e-0af893e78cca');\n",
       "var x = new MutationObserver(function (mutations, observer) {{\n",
       "        var display = window.getComputedStyle(gd).display;\n",
       "        if (!display || display === 'none') {{\n",
       "            console.log([gd, 'removed!']);\n",
       "            Plotly.purge(gd);\n",
       "            observer.disconnect();\n",
       "        }}\n",
       "}});\n",
       "\n",
       "// Listen for the removal of the full notebook cells\n",
       "var notebookContainer = gd.closest('#notebook-container');\n",
       "if (notebookContainer) {{\n",
       "    x.observe(notebookContainer, {childList: true});\n",
       "}}\n",
       "\n",
       "// Listen for the clearing of the current output cell\n",
       "var outputEl = gd.closest('.output');\n",
       "if (outputEl) {{\n",
       "    x.observe(outputEl, {childList: true});\n",
       "}}\n",
       "\n",
       "                        })\n",
       "                };\n",
       "                });\n",
       "            </script>\n",
       "        </div>"
      ]
     },
     "metadata": {},
     "output_type": "display_data"
    }
   ],
   "source": [
    "fig = px.scatter_3d(finalDf, x='D1', y='D2', z='D3',\n",
    "                    color='Species')\n",
    "fig.show()"
   ]
  },
  {
   "cell_type": "code",
   "execution_count": null,
   "metadata": {},
   "outputs": [],
   "source": []
  }
 ],
 "metadata": {
  "kernelspec": {
   "display_name": "Python 3",
   "language": "python",
   "name": "python3"
  },
  "language_info": {
   "codemirror_mode": {
    "name": "ipython",
    "version": 3
   },
   "file_extension": ".py",
   "mimetype": "text/x-python",
   "name": "python",
   "nbconvert_exporter": "python",
   "pygments_lexer": "ipython3",
   "version": "3.7.6"
  }
 },
 "nbformat": 4,
 "nbformat_minor": 4
}
